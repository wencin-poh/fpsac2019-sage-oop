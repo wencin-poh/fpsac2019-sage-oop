{
 "cells": [
  {
   "cell_type": "markdown",
   "metadata": {
    "collapsed": false
   },
   "source": [
    "# Object Oriented Programming tutorial (in Python)\n",
    "\n",
    "The philosophy of object oriented programming is that data types are seen as ''objects''. These types have attributes and methods attached to them, so that once they are created, the computer ''knows'' what to do with them."
   ]
  },
  {
   "cell_type": "markdown",
   "metadata": {
    "collapsed": false
   },
   "source": [
    "### Classes: Construction and Special Methods\n",
    "In this example, we create a class Box of boxes. Every instance of this class are determined given their length, height and weight.\n",
    "\n",
    "The following shows an example of what a class looks like."
   ]
  },
  {
   "cell_type": "code",
   "execution_count": 63,
   "metadata": {
    "collapsed": false
   },
   "outputs": [
   ],
   "source": [
    "class Box:\n",
    "    r\"\"\"\n",
    "    Class for 3-dimensional rectangular boxes.\n",
    "    \"\"\"\n",
    "\n",
    "    # These are class variables and apply to all instances in this class.\n",
    "    isPolytope = True\n",
    "    dimension = 3\n",
    "\n",
    "    def __init__(self,l=1,w=1,h=1):\n",
    "        r\"\"\"\n",
    "        Initializes the dimensions of a 3-dimensional box.\n",
    "\n",
    "        This is a special method in Python.\n",
    "        EXAMPLE:\n",
    "            sage: Box(3,2,1)\n",
    "            Box(3,2,1)\n",
    "        \"\"\"\n",
    "        # These are object variables and apply to a particular instance of this class.\n",
    "        self.length = l\n",
    "        self.width = w\n",
    "        self.height = h\n",
    "    def __repr__(self):\n",
    "        r\"\"\"\n",
    "        Returns a canonical representation of self.\n",
    "        This representation should be unambiguous.\n",
    "        Typically, we have eval(repr(object)) == object.\n",
    "\n",
    "        This is a special method in Python.\n",
    "        \"\"\"\n",
    "        return \"Box({0},{1},{2})\".format(self.length,self.width,self.height)\n",
    "    def __str__(self):\n",
    "        r\"\"\"\n",
    "        Returns a string representation of self.\n",
    "        This string representation is usually meant to be readable.\n",
    "\n",
    "        This is a special method in Python.\n",
    "        \"\"\"\n",
    "        return \"Box of length {0}, width {1} and height {2}\".format(self.length,self.width,self.height)\n",
    "    def volume(self):\n",
    "        return self.length*self.width*self.height\n",
    "    def surface_area(self):\n",
    "        return 2*(self.length*self.width+self.length*self.height+self.width*self.height)\n",
    "    def __eq__(self,other):\n",
    "        r\"\"\"\n",
    "        Returns True if all attributes of self are equal to the corresponding attributes of other and False otherwise.\n",
    "\n",
    "        This is a special method in Python.\n",
    "        \"\"\"\n",
    "        return (self.length==other.length and self.width==other.width and self.height==other.height)\n",
    "    def __ne__(self,other):\n",
    "        r\"\"\"\n",
    "        Returns True if some attribute of self is not equal to the corresponding attribute of other and False otherwise.\n",
    "\n",
    "        This is a special method in Python.\n",
    "        \"\"\"\n",
    "        return (self.length!=other.length or self.width!=other.width or self.height!=other.height)\n",
    "    def __hash__(self):\n",
    "        r\"\"\"\n",
    "        Returns an integer hash value for self.\n",
    "        This is useful for creating dictionary whose keys are objects of this class.\n",
    "\n",
    "        This is a special method in Python.\n",
    "        \"\"\"\n",
    "        return hash((self.length,self.width,self.height))\n",
    "    def modify_length(self,l):\n",
    "        self.length = l\n",
    "    def __call__(self,l,w,h):\n",
    "        r\"\"\"\n",
    "        Creates an instance of a class by making it callable (as if it is a function).\n",
    "\n",
    "        This is a special method in Python.\n",
    "        \"\"\"\n",
    "        if l<=0:\n",
    "        # Checks if l is nonpositive and returns an error if l is not positive\n",
    "            raise ValueError(\"length should be positive\")\n",
    "        elif w<=0:\n",
    "            raise ValueError(\"width should be positive\")\n",
    "        elif h<=0:\n",
    "            raise ValueError(\"height should be positive\")\n",
    "        self.length = l\n",
    "        self.width = w\n",
    "        self.height = h\n",
    "        return self\n",
    "\n",
    "    def __eq__(self,other):\n",
    "        r\"\"\"\n",
    "        Returns True if all attributes of self are equal to the corresponding attributes of other and False otherwise.\n",
    "\n",
    "        This is a special method in Python.\n",
    "        \"\"\"\n",
    "        t1 = (self.length,self.width,self.height)\n",
    "        t2 = (other.length,other.width,other.height)\n",
    "        return t1==t2\n",
    "    def __ne__(self,other):\n",
    "        r\"\"\"\n",
    "        Returns True if some attribute of self is not equal to the corresponding attribute of other and False otherwise.\n",
    "\n",
    "        This is a special method in Python.\n",
    "        \"\"\"\n",
    "        t1 = (self.length,self.width,self.height)\n",
    "        t2 = (other.length,other.width,other.height)\n",
    "        return t1!=t2\n",
    "    def __le__(self,other):\n",
    "        r\"\"\"\n",
    "        Returns True if some attribute of self is not equal to the corresponding attribute of other and False otherwise.\n",
    "\n",
    "        This is a special method in Python.\n",
    "        \"\"\"\n",
    "        return (self.length!=other.length or self.width!=other.width or self.height!=other.height)\n",
    "\n",
    "    # The following are class methods which apply to all instances of this class\n",
    "    @classmethod\n",
    "    def open_box(self):\n",
    "        print (\"Ta-da! Nothing is inside the box.\")"
   ]
  },
  {
   "cell_type": "code",
   "execution_count": 64,
   "metadata": {
    "collapsed": false
   },
   "outputs": [
    {
     "data": {
      "text/plain": [
       "Box(1,1,1)"
      ]
     },
     "execution_count": 64,
     "metadata": {
     },
     "output_type": "execute_result"
    }
   ],
   "source": [
    "B = Box(); B"
   ]
  },
  {
   "cell_type": "code",
   "execution_count": 65,
   "metadata": {
    "collapsed": false
   },
   "outputs": [
    {
     "data": {
      "text/plain": [
       "True"
      ]
     },
     "execution_count": 65,
     "metadata": {
     },
     "output_type": "execute_result"
    }
   ],
   "source": [
    "eval(repr(B))==B"
   ]
  },
  {
   "cell_type": "code",
   "execution_count": 66,
   "metadata": {
    "collapsed": false
   },
   "outputs": [
    {
     "data": {
      "text/plain": [
       "3"
      ]
     },
     "execution_count": 66,
     "metadata": {
     },
     "output_type": "execute_result"
    }
   ],
   "source": [
    "Box.dimension"
   ]
  },
  {
   "cell_type": "code",
   "execution_count": 13,
   "metadata": {
    "collapsed": false
   },
   "outputs": [
    {
     "data": {
      "text/plain": [
       "Box(3,1,1)"
      ]
     },
     "execution_count": 13,
     "metadata": {
     },
     "output_type": "execute_result"
    }
   ],
   "source": [
    "B.modify_length(3); B"
   ]
  },
  {
   "cell_type": "code",
   "execution_count": 14,
   "metadata": {
    "collapsed": false
   },
   "outputs": [
    {
     "name": "stdout",
     "output_type": "stream",
     "text": [
      "Box of length 3, width 1 and height 1\n",
      "Box of length 2, width 2 and height 2\n"
     ]
    }
   ],
   "source": [
    "C = Box(3,1,1); print(C)"
   ]
  },
  {
   "cell_type": "code",
   "execution_count": 7,
   "metadata": {
    "collapsed": false
   },
   "outputs": [
    {
     "data": {
      "text/plain": [
       "True"
      ]
     },
     "execution_count": 7,
     "metadata": {
     },
     "output_type": "execute_result"
    }
   ],
   "source": [
    "B == C"
   ]
  },
  {
   "cell_type": "code",
   "execution_count": 31,
   "metadata": {
    "collapsed": false
   },
   "outputs": [
    {
     "data": {
      "text/plain": [
       "Box(2,2,2)"
      ]
     },
     "execution_count": 31,
     "metadata": {
     },
     "output_type": "execute_result"
    }
   ],
   "source": [
    "b = Box()\n",
    "A=b(2,2,2); A"
   ]
  },
  {
   "cell_type": "code",
   "execution_count": 32,
   "metadata": {
    "collapsed": false
   },
   "outputs": [
    {
     "data": {
      "text/plain": [
       "8"
      ]
     },
     "execution_count": 32,
     "metadata": {
     },
     "output_type": "execute_result"
    }
   ],
   "source": [
    "A.volume()"
   ]
  },
  {
   "cell_type": "code",
   "execution_count": 8,
   "metadata": {
    "collapsed": false
   },
   "outputs": [
    {
     "name": "stdout",
     "output_type": "stream",
     "text": [
      "{Box(3,1,1): 'Trains'}\n"
     ]
    }
   ],
   "source": [
    "Gifts = {}\n",
    "Gifts[B] = \"Trains\"\n",
    "print(Gifts)"
   ]
  },
  {
   "cell_type": "code",
   "execution_count": 10,
   "metadata": {
    "collapsed": false
   },
   "outputs": [
    {
     "name": "stdout",
     "output_type": "stream",
     "text": [
      "{Box(2,2,2): 'Candies', Box(3,1,1): 'Dolls'}\n"
     ]
    }
   ],
   "source": [
    "Gifts.update({A:\"Candies\",C:\"Dolls\"})\n",
    "print(Gifts)"
   ]
  },
  {
   "cell_type": "markdown",
   "metadata": {
    "collapsed": false
   },
   "source": [
    "#### Inheritance\n",
    "A useful feature of classes is that new classes can derive properties from existing classes. This concept is known as **inheritance**.\n",
    "\n",
    "For instance, we create a particular class of boxes, GiftBox that contains some set of gifts with some total value."
   ]
  },
  {
   "cell_type": "code",
   "execution_count": 67,
   "metadata": {
    "collapsed": false
   },
   "outputs": [
   ],
   "source": [
    "class GiftBox(Box):\n",
    "    def __init__(self,l,w,h,gifts,value):\n",
    "        r\"\"\"\n",
    "        Initializes the dimensions of a 3-dimensional gift box along with gifts and their total values.\n",
    "        The variable gifts must be a list or tuple.\n",
    "\n",
    "        This is a special method in Python.\n",
    "        EXAMPLE:\n",
    "            sage: GiftBox(3,2,1)\n",
    "            GiftBox(3,2,1)\n",
    "        \"\"\"\n",
    "        Box.__init__(self,l,w,h)\n",
    "        self.gifts = tuple(gifts)\n",
    "        self.value = value\n",
    "    def __repr__(self):\n",
    "        r\"\"\"\n",
    "        Returns a canonical representation of self.\n",
    "        This representation should be unambiguous.\n",
    "        Typically, we have eval(repr(object)) == object.\n",
    "\n",
    "        This is a special method in Python.\n",
    "        \"\"\"\n",
    "        t = (self.length,self.width,self.height,self.gifts,self.value)\n",
    "        return \"GiftBox({0},{1},{2},{3},{4})\".format(*t)\n",
    "    def __str__(self):\n",
    "        r\"\"\"\n",
    "        Returns a string representation of self.\n",
    "        This string representation is usually meant to be readable.\n",
    "\n",
    "        This is a special method in Python.\n",
    "        \"\"\"\n",
    "        t = (self.length,self.width,self.height,self.gifts,self.value)\n",
    "        return \"Gift box of length {0}, width {1}, height {2}, set of gifts {3} and value {4}\".format(*t)\n",
    "    def content(self):\n",
    "        return self.gifts\n",
    "    def value(self):\n",
    "        return self.value\n",
    "    def __add__(self,other):\n",
    "        length = self.length + other.length\n",
    "        width = self.width + other.width\n",
    "        height = self.height + other.height\n",
    "        gifts = self.gifts + other.gifts\n",
    "        value = self.value + other.value\n",
    "        return GiftBox(length,width,height,gifts,value)\n",
    "    def scalar_mult(self,n):\n",
    "        if n<=0:\n",
    "            raise ValueError(\"n should be positive\")\n",
    "        length = self.length*n\n",
    "        width = self.width*n\n",
    "        height = self.height*n\n",
    "        gifts = [self.gifts]*n\n",
    "        value = self.value*n\n",
    "        return GiftBox(length,width,height,gifts,value)\n",
    "\n",
    "    # The following are class methods which apply to all instances of this class\n",
    "    @classmethod\n",
    "    def open_box(self):\n",
    "        print (\"Ta-da! A gift is inside the gift box.\")"
   ]
  },
  {
   "cell_type": "code",
   "execution_count": 59,
   "metadata": {
    "collapsed": false
   },
   "outputs": [
    {
     "data": {
      "text/plain": [
       "GiftBox(3,2,2,('Teddy bear',),25)"
      ]
     },
     "execution_count": 59,
     "metadata": {
     },
     "output_type": "execute_result"
    }
   ],
   "source": [
    "G=GiftBox(3,2,2,[\"Teddy bear\"],25); G"
   ]
  },
  {
   "cell_type": "code",
   "execution_count": 60,
   "metadata": {
    "collapsed": false
   },
   "outputs": [
    {
     "data": {
      "text/plain": [
       "\"Gift box of length 3, width 2, height 2, set of gifts ('Teddy bear',) and value 25\""
      ]
     },
     "execution_count": 60,
     "metadata": {
     },
     "output_type": "execute_result"
    }
   ],
   "source": [
    "str(G)"
   ]
  },
  {
   "cell_type": "code",
   "execution_count": 61,
   "metadata": {
    "collapsed": false
   },
   "outputs": [
    {
     "name": "stdout",
     "output_type": "stream",
     "text": [
      "Ta-da! A gift is inside the gift box.\n"
     ]
    }
   ],
   "source": [
    "G.open_box()"
   ]
  },
  {
   "cell_type": "code",
   "execution_count": 56,
   "metadata": {
    "collapsed": false
   },
   "outputs": [
    {
     "data": {
      "text/plain": [
       "12"
      ]
     },
     "execution_count": 56,
     "metadata": {
     },
     "output_type": "execute_result"
    }
   ],
   "source": [
    "G.volume()"
   ]
  },
  {
   "cell_type": "code",
   "execution_count": 68,
   "metadata": {
    "collapsed": false
   },
   "outputs": [
    {
     "data": {
      "text/plain": [
       "True"
      ]
     },
     "execution_count": 68,
     "metadata": {
     },
     "output_type": "execute_result"
    }
   ],
   "source": [
    "GiftBox.isPolytope"
   ]
  },
  {
   "cell_type": "code",
   "execution_count": 0,
   "metadata": {
    "collapsed": false
   },
   "outputs": [
   ],
   "source": [
   ]
  }
 ],
 "metadata": {
  "kernelspec": {
   "display_name": "SageMath",
   "name": "sagemath"
  },
  "language_info": {
   "codemirror_mode": {
    "name": "ipython",
    "version": 2
   },
   "file_extension": ".py",
   "mimetype": "text/x-python",
   "name": "python",
   "nbconvert_exporter": "python",
   "pygments_lexer": "ipython2",
   "version": "2.7.15rc1"
  }
 },
 "nbformat": 4,
 "nbformat_minor": 0
}
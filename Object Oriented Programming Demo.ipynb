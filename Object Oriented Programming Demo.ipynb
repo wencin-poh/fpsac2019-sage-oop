{
 "cells": [
  {
   "cell_type": "code",
   "execution_count": 1,
   "metadata": {
    "collapsed": false
   },
   "outputs": [
   ],
   "source": [
    "class Box:\n",
    "    \"\"\"\n",
    "    Class of boxes.\n",
    "    \"\"\"\n",
    "    \n",
    "    def __init__(self,l,w,h):\n",
    "        r\"\"\"\n",
    "        Initializes the dimensions of a box.\n",
    "        \n",
    "        EXAMPLE:\n",
    "            sage: B = Box(1,2,3); B\n",
    "            Box(1,2,3)\n",
    "        \"\"\"\n",
    "        self.length = l\n",
    "        self.width = w\n",
    "        self.height = h\n",
    "    \n",
    "    def __repr__(self):\n",
    "        r\"\"\"\n",
    "        Returns a canonical representation of object (instance of this class).\n",
    "        \"\"\"\n",
    "        t = (self.length,self.width,self.height)\n",
    "        return \"Box({0},{1},{2})\".format(*t)\n",
    "    \n",
    "    def __str__(self):\n",
    "        r\"\"\"\n",
    "        Returns a user readable representation of object (instance of this class).\n",
    "        \"\"\"\n",
    "        t = (self.length,self.width,self.height)\n",
    "        return \"Box with length {0}, width {1} and height {2}\".format(*t)\n",
    "    \n",
    "    def volume(self):\n",
    "        return self.length*self.width*self.height\n",
    "    \n",
    "    def modify_length(self,l):\n",
    "        self.length = l\n",
    "        return self\n",
    "        \n",
    "    def modify_height(self,h):\n",
    "        self.height = h\n",
    "        return self\n",
    "        "
   ]
  },
  {
   "cell_type": "code",
   "execution_count": 2,
   "metadata": {
    "collapsed": false
   },
   "outputs": [
    {
     "data": {
      "text/plain": [
       "Box(1,2,3)"
      ]
     },
     "execution_count": 2,
     "metadata": {
     },
     "output_type": "execute_result"
    }
   ],
   "source": [
    "B = Box(1,2,3); B"
   ]
  },
  {
   "cell_type": "code",
   "execution_count": 3,
   "metadata": {
    "collapsed": false
   },
   "outputs": [
    {
     "data": {
      "text/plain": [
       "'Box with length 2, width 2 and height 2'"
      ]
     },
     "execution_count": 3,
     "metadata": {
     },
     "output_type": "execute_result"
    }
   ],
   "source": [
    "C = Box(2,2,2)\n",
    "str(C)"
   ]
  },
  {
   "cell_type": "code",
   "execution_count": 4,
   "metadata": {
    "collapsed": false
   },
   "outputs": [
    {
     "data": {
      "text/plain": [
       "8"
      ]
     },
     "execution_count": 4,
     "metadata": {
     },
     "output_type": "execute_result"
    }
   ],
   "source": [
    "C.volume()"
   ]
  },
  {
   "cell_type": "code",
   "execution_count": 5,
   "metadata": {
    "collapsed": false
   },
   "outputs": [
    {
     "data": {
      "text/plain": [
       "'Box with length 4, width 2 and height 10'"
      ]
     },
     "execution_count": 5,
     "metadata": {
     },
     "output_type": "execute_result"
    }
   ],
   "source": [
    "C.modify_length(4).modify_height(10)\n",
    "str(C)"
   ]
  },
  {
   "cell_type": "code",
   "execution_count": 6,
   "metadata": {
    "collapsed": false
   },
   "outputs": [
   ],
   "source": [
    "class GiftBox(Box):\n",
    "    \"\"\"\n",
    "    Class of gift boxes.\n",
    "    \"\"\"\n",
    "    \n",
    "    def __init__(self,l,w,h,gifts,value):\n",
    "        r\"\"\"\n",
    "        Initializes the dimensions of a gift box, a list of gifts and their total value.\n",
    "        \n",
    "        EXAMPLE:\n",
    "            sage: G = GiftBox(1,2,3,[\"House\",\"Box\"],12); G\n",
    "            GiftBox(1,2,3,[\"House\",\"Box\"],12)\n",
    "        \"\"\"\n",
    "        Box.__init__(self,l,w,h)\n",
    "        self.gifts = tuple(gifts)\n",
    "        self.value = value\n",
    "        \n",
    "    def __repr__(self):\n",
    "        r\"\"\"\n",
    "        Returns a canonical representation of object (instance of this class).\n",
    "        \"\"\"\n",
    "        t = (self.length,self.width,self.height,self.gifts,self.value)\n",
    "        return \"GiftBox({0},{1},{2},{3},{4})\".format(*t)\n",
    "    \n",
    "    def __str__(self):\n",
    "        r\"\"\"\n",
    "        Returns a user readable representation of object (instance of this class).\n",
    "        \"\"\"\n",
    "        t = (self.length,self.width,self.height,self.gifts,self.value)\n",
    "        return \"Gift box with length {0}, width {1}, height {2}, gifts {3} and value {4}\".format(*t)\n",
    "    \n",
    "    def content(self):\n",
    "        return self.gifts\n",
    "    \n",
    "    def __eq__(self,other):\n",
    "        \"\"\"\n",
    "        Returns True if all attributes of self are equal to the corresponding attributes of other.\n",
    "        \"\"\"\n",
    "        t1 = (self.length,self.width,self.height,self.gifts,self.value)\n",
    "        t2 = (other.length,other.width,other.height,other.gifts,other.value)\n",
    "        return t1==t2\n",
    "    \n",
    "    def __add__(self,other):\n",
    "        length = max(self.length,other.length)\n",
    "        width = max(self.width,other.width)\n",
    "        height = max(self.height,other.height)\n",
    "        gifts = list(self.gifts)+list(other.gifts)\n",
    "        value = self.value + other.value\n",
    "        t = (length,width,height,gifts,value)\n",
    "        return GiftBox(*t)"
   ]
  },
  {
   "cell_type": "code",
   "execution_count": 7,
   "metadata": {
    "collapsed": false
   },
   "outputs": [
    {
     "data": {
      "text/plain": [
       "\"Gift box with length 1, width 2, height 3, gifts ('House', 'Box') and value 12\""
      ]
     },
     "execution_count": 7,
     "metadata": {
     },
     "output_type": "execute_result"
    }
   ],
   "source": [
    "G = GiftBox(1,2,3,[\"House\",\"Box\"],12); str(G)"
   ]
  },
  {
   "cell_type": "code",
   "execution_count": 8,
   "metadata": {
    "collapsed": false
   },
   "outputs": [
    {
     "data": {
      "text/plain": [
       "('House', 'Box')"
      ]
     },
     "execution_count": 8,
     "metadata": {
     },
     "output_type": "execute_result"
    }
   ],
   "source": [
    "G.content()"
   ]
  },
  {
   "cell_type": "code",
   "execution_count": 9,
   "metadata": {
    "collapsed": false
   },
   "outputs": [
    {
     "data": {
      "text/plain": [
       "\"Gift box with length 3, width 1, height 4, gifts ('House', 'Box') and value 12\""
      ]
     },
     "execution_count": 9,
     "metadata": {
     },
     "output_type": "execute_result"
    }
   ],
   "source": [
    "H = GiftBox(3,1,4,[\"House\",\"Box\"],12); str(H)"
   ]
  },
  {
   "cell_type": "code",
   "execution_count": 10,
   "metadata": {
    "collapsed": false
   },
   "outputs": [
    {
     "data": {
      "text/plain": [
       "\"Gift box with length 3, width 2, height 4, gifts ('House', 'Box', 'House', 'Box') and value 24\""
      ]
     },
     "execution_count": 10,
     "metadata": {
     },
     "output_type": "execute_result"
    }
   ],
   "source": [
    "str(G+H)"
   ]
  },
  {
   "cell_type": "code",
   "execution_count": 11,
   "metadata": {
    "collapsed": false
   },
   "outputs": [
    {
     "data": {
      "text/plain": [
       "False"
      ]
     },
     "execution_count": 11,
     "metadata": {
     },
     "output_type": "execute_result"
    }
   ],
   "source": [
    "G == H"
   ]
  },
  {
   "cell_type": "code",
   "execution_count": 12,
   "metadata": {
    "collapsed": false
   },
   "outputs": [
    {
     "data": {
      "text/plain": [
       "\"Gift box with length 1, width 2, height 3, gifts ('House', 'Box') and value 12\""
      ]
     },
     "execution_count": 12,
     "metadata": {
     },
     "output_type": "execute_result"
    }
   ],
   "source": [
    "K = GiftBox(1,2,3,[\"House\",\"Box\"],12); str(K)"
   ]
  },
  {
   "cell_type": "code",
   "execution_count": 13,
   "metadata": {
    "collapsed": false
   },
   "outputs": [
    {
     "data": {
      "text/plain": [
       "True"
      ]
     },
     "execution_count": 13,
     "metadata": {
     },
     "output_type": "execute_result"
    }
   ],
   "source": [
    "G == K"
   ]
  },
  {
   "cell_type": "code",
   "execution_count": 14,
   "metadata": {
    "collapsed": false
   },
   "outputs": [
    {
     "data": {
      "text/plain": [
       "True"
      ]
     },
     "execution_count": 14,
     "metadata": {
     },
     "output_type": "execute_result"
    }
   ],
   "source": [
    "# This is not expected.\n",
    "# TODO: Implement __ne__ for GiftBox\n",
    "G != K"
   ]
  },
  {
   "cell_type": "code",
   "execution_count": 0,
   "metadata": {
    "collapsed": false
   },
   "outputs": [
   ],
   "source": [
   ]
  }
 ],
 "metadata": {
  "kernelspec": {
   "display_name": "SageMath",
   "name": "sagemath"
  },
  "language_info": {
   "codemirror_mode": {
    "name": "ipython",
    "version": 2
   },
   "file_extension": ".py",
   "mimetype": "text/x-python",
   "name": "python",
   "nbconvert_exporter": "python",
   "pygments_lexer": "ipython2",
   "version": "2.7.15rc1"
  }
 },
 "nbformat": 4,
 "nbformat_minor": 0
}